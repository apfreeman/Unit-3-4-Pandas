{
 "cells": [
  {
   "cell_type": "code",
   "execution_count": null,
   "id": "6b17fe52-8aa2-43ec-9ded-01766b2d649f",
   "metadata": {},
   "outputs": [],
   "source": [
    "#Correct 'Close' Column name to reflect stock symbol\n",
    "apple_returns = apple_returns.rename(columns = {\"Close\":\"AAPL\"})"
   ]
  }
 ],
 "metadata": {
  "kernelspec": {
   "display_name": "Python 3",
   "language": "python",
   "name": "python3"
  },
  "language_info": {
   "codemirror_mode": {
    "name": "ipython",
    "version": 3
   },
   "file_extension": ".py",
   "mimetype": "text/x-python",
   "name": "python",
   "nbconvert_exporter": "python",
   "pygments_lexer": "ipython3",
   "version": "3.7.10"
  }
 },
 "nbformat": 4,
 "nbformat_minor": 5
}
